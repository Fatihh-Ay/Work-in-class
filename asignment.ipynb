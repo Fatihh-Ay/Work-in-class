{
  "cells": [
    {
      "cell_type": "code",
      "execution_count": null,
      "metadata": {
        "id": "U5kfJKPkML3P",
        "outputId": "48a26dfd-2bf5-4338-b1ff-296541b3ccba"
      },
      "outputs": [],
      "source": [
        "\"\"\"\n",
        "(1): Find out the most frequent number and its frequency.\n",
        "\"\"\"\n",
        "nums = [1,30,4,5,4,30,0,9,30,30]\n",
        "\n",
        "# counted = 0\n",
        "# item = 0\n",
        "\n",
        "# for i in nums:\n",
        "#     if nums.count(i) > counted:\n",
        "#         counted = nums.count(i)\n",
        "#         item = i\n",
        "# print(f\"The most frequent number is:{item} and its frequency:{counted}\")\n",
        "\n",
        "###### Diger bir cozum chatGPT den\n",
        "\n",
        "from collections import Counter \n",
        "  \n",
        "nums = [1,30,4,5,4,30,0,9,30,30] \n",
        "  \n",
        "data = Counter(nums) \n",
        "print(data)\n",
        "most_frequent = data.most_common(1)[0] \n",
        "print(most_frequent)\n",
        "  \n",
        "print('The most frequent number is', most_frequent[0], 'which appears', most_frequent[1], 'times in the list.')\n",
        "Counter('abracadabra').most_common(3)\n",
        "[('a', 5), ('b', 2), ('r', 2)]"
      ]
    },
    {
      "cell_type": "code",
      "execution_count": null,
      "metadata": {},
      "outputs": [],
      "source": [
        "from collections import Counter \n",
        "lst = [1,2,3,4,3,2,5,4,6,8,4,3,5,7,9,3,2]\n",
        "Counter(lst).most_common()[0]"
      ]
    },
    {
      "cell_type": "code",
      "execution_count": null,
      "metadata": {
        "id": "Q0FlsdHgML3X"
      },
      "outputs": [],
      "source": [
        "\"\"\"(2)- Find out if the given word is \"comfortable words\" in relation to the ten-finger keyboard use.\n",
        "\n",
        "A comfortable word is a word which you can type always alternating the hand you type with \n",
        "(assuming you type using a Q-keyboard and use of the ten-fingers standard).\n",
        "\n",
        "The word will always be a string consisting of only letters from a to z.\n",
        "\n",
        "Write a program to returns True if it's a comfortable word or False otherwise.\"\"\"\n",
        "\n",
        "\"\"\"\n",
        "Given  word\tDesired Output (explanation)\n",
        "tester\t  -->   False (uses only left-hand fingers)*\n",
        "polly\t  -->   False (uses only right-hand fingers)*\n",
        "clarusway -->\tTrue (uses both hand fingers)*\n",
        "\"\"\""
      ]
    },
    {
      "cell_type": "code",
      "execution_count": null,
      "metadata": {
        "id": "irQgJFZoML3Y"
      },
      "outputs": [],
      "source": [
        "\n",
        "def comfortable_word(word):\n",
        "  left_hand = ['q', 'w', 'e', 'r','t', 'a','s','d','f','g','z','x','c','v']\n",
        "  right_hand = ['y','u','i','o','p','h','j','k','l','b','n','m']\n",
        "  last_hand = \"\"\n",
        "  for letter in word:\n",
        "    if letter in left_hand:\n",
        "      if last_hand == \"right\":\n",
        "        return \"Both Handed\"\n",
        "      last_hand = \"left\"\n",
        "    elif letter in right_hand:\n",
        "      if last_hand == \"left\":\n",
        "        return \"Both Handed\"\n",
        "      last_hand = \"right\"\n",
        "  if last_hand == \"left\":\n",
        "    return \"Left Handed\"\n",
        "  elif last_hand == \"right\":\n",
        "    return \"Right Handed\"\n",
        "print(comfortable_word(input(\"Enter your words : \")))"
      ]
    },
    {
      "cell_type": "markdown",
      "metadata": {
        "id": "T-XmPnO0MPQ8"
      },
      "source": [
        "(3) - How to print an entered name 5 times in a row (with a single line of code) ?"
      ]
    },
    {
      "cell_type": "code",
      "execution_count": null,
      "metadata": {
        "colab": {
          "base_uri": "https://localhost:8080/"
        },
        "id": "Pd3Cpu9cMP7c",
        "outputId": "e607528a-4803-4be4-d12a-c3c07b4a3d35"
      },
      "outputs": [],
      "source": [
        "print((input(\"Enter your name: \")+'')*5, sep='\\n')\n"
      ]
    },
    {
      "cell_type": "markdown",
      "metadata": {
        "id": "ieRTz7i1HRp9"
      },
      "source": [
        "(4).The provided code stub reads and integer, n , from console. For all non-negative integers , print i**2\n",
        "\n",
        "Example\n",
        "if n=4;  Print the square of each number on a separate line.\n",
        "\n",
        "0\n",
        "\n",
        "1\n",
        "\n",
        "4\n",
        "\n",
        "9"
      ]
    },
    {
      "cell_type": "code",
      "execution_count": null,
      "metadata": {
        "colab": {
          "base_uri": "https://localhost:8080/"
        },
        "id": "IT8w38QRmZJJ",
        "outputId": "7c5503e2-9ce5-4d3d-c8ec-323ad03680a9"
      },
      "outputs": [],
      "source": [
        "n = int(input(\"n..: \"))\n",
        "for i in range(n):\n",
        "    print(i**2,end='\\n\\n')"
      ]
    },
    {
      "attachments": {},
      "cell_type": "markdown",
      "metadata": {
        "id": "3LHn3sMKuJjl"
      },
      "source": [
        "(5). Print the prime numbers which are between 1 to entered limit number (n).\n",
        "\n",
        "You can use a nested for loop.\n",
        "Collect all these numbers into a list \n",
        "# [2, 3, 5, 7, 11, 13, 17, 19, 23, 29, 31, 37, 41, 43, 47, 53, 59,\n",
        "# 61, 67, 71, 73, 79, 83, 89, 97]"
      ]
    },
    {
      "cell_type": "code",
      "execution_count": null,
      "metadata": {},
      "outputs": [],
      "source": [
        "import math\n",
        "prime=[]  # created an empty list to collect prime numbers in it\n",
        "\n",
        "for num in range(2, 101):\n",
        "    status = True\n",
        "    for i in range(2, int(math.sqrt(n)+1)):    # bu formulle optimize ettik kodu\n",
        "        if num % i == 0: # check if the only factors are 1 and itself\n",
        "            status = False\n",
        "    if status:\n",
        "        prime.append(num)  # collect prime numbers in the list\n",
        "\n",
        "print(prime)"
      ]
    },
    {
      "cell_type": "code",
      "execution_count": null,
      "metadata": {
        "id": "MqynEvYtt4Tb"
      },
      "outputs": [],
      "source": [
        "# n = int(input(\"Enter a number: \"))\n",
        "# my_list = [2,3,5,7]\n",
        "\n",
        "# for x in range(2,n+1):\n",
        "#     if x%2 != 0 and x%3 != 0 and x%5 != 0 and x%7 != 0:\n",
        "#         my_list.append(x)\n",
        "\n",
        "# print(my_list)\n",
        "#-------------------------------------------------------------------#\n",
        "#Take input from user\n",
        "n = int(input(\"Enter a number: \"))\n",
        "\n",
        "#Create empty list \n",
        "prime_numbers = []\n",
        "\n",
        "#Loop from 1 to n\n",
        "for num in range(1,n+1):\n",
        "   #All prime numbers are greater than 1\n",
        "   if num > 1:\n",
        "       for i in range(2,num):\n",
        "           if (num % i) == 0:\n",
        "               break\n",
        "       else:\n",
        "           prime_numbers.append(num)\n",
        "\n",
        "#Print the list\n",
        "print(prime_numbers)"
      ]
    },
    {
      "cell_type": "markdown",
      "metadata": {
        "id": "4kjXpDKsuPwU"
      },
      "source": [
        "(6). Print the FizzBuzz numbers.\n",
        "\n",
        "FizzBuzz is a famous code challenge used in interviews to test basic programming skills. It's time to write your own implementation.\n",
        "Print numbers from 1 to 100 inclusively following these instructions:\n",
        "\n",
        "*   if a number is multiple of 3, print \"Fizz\" instead of this number,\n",
        "\n",
        "\n",
        "*   if a number is multiple of 5, print \"Buzz\" instead of this number,\n",
        "\n",
        "\n",
        "*   for numbers that are multiples of both 3 and 5, print \"FizzBuzz\",\n",
        "\n",
        "\n",
        "*  print the rest of the numbers unchanged.\n",
        "\n",
        "\n",
        "*   Output each value on a separate line."
      ]
    },
    {
      "cell_type": "code",
      "execution_count": null,
      "metadata": {
        "id": "63fIJYV8vGLm"
      },
      "outputs": [],
      "source": [
        "for i in range(1,101):\n",
        "    if i%3 == 0 and i%5 == 0:\n",
        "        print('FizzBuzz')\n",
        "    elif i%3 == 0 and i%5 != 0:\n",
        "        print('Fizz')\n",
        "    elif i%5 == 0 and i%3 != 0:\n",
        "        print('Buzz')\n",
        "    else: print(i)"
      ]
    },
    {
      "cell_type": "code",
      "execution_count": null,
      "metadata": {},
      "outputs": [],
      "source": [
        "for i in range(1, 101):      # Usttekine alternatif cozum\n",
        "  output = \"\"\n",
        "  if (i % 3 == 0):\n",
        "    output += \"Fizz\"\n",
        "  if (i % 5 == 0):\n",
        "    output += \"Buzz\"\n",
        "  if (output == \"\"):\n",
        "    output = i\n",
        "  print(output)"
      ]
    },
    {
      "cell_type": "code",
      "execution_count": null,
      "metadata": {},
      "outputs": [],
      "source": [
        "for i in range(1,101):\n",
        "    print(\"Fizz\"*(i%3 == 0) + \"Buzz\"*(i%5 == 0) or i)"
      ]
    },
    {
      "attachments": {},
      "cell_type": "markdown",
      "metadata": {
        "id": "dbNpt7asvK72"
      },
      "source": [
        "(7). Count the number of each letter in a sentence.\n",
        "The department you work for undertook a project construction that makes word / text analysis. You are asked to calculate the number of letters or any chars in the sentences entered under this project.\n",
        "Write a Python program that;\n",
        "\n",
        "*   takes a sentence from the user,\n",
        "*   counts the number of each letter/chars of the sentence,\n",
        "*   collects the letters/chars as a key and the counted numbers as a value in a dictionary."
      ]
    },
    {
      "cell_type": "code",
      "execution_count": null,
      "metadata": {
        "id": "GGml7WmQLgwC"
      },
      "outputs": [],
      "source": [
        "# Sample inputs : hippo runs to us!\t\n",
        "# Outputs\n",
        "{'s': 2, 'r': 1, 't': 1, 'h': 1, 'n': 1, \n",
        "'i': 1, 'u': 2, 'o': 2, 'p': 2, ' ': 3, '!': 1}\n"
      ]
    },
    {
      "cell_type": "code",
      "execution_count": null,
      "metadata": {},
      "outputs": [],
      "source": [
        "sentence = input('Enter a sentence..: ')\n",
        "my_dict = {}\n",
        "\n",
        "for i in sentence:\n",
        "    my_dict.update({i:sentence.count(i)})\n",
        "    # my_dict[i] = sentence.count(i)    ## bir ustteki satirin yerine alternatif\n",
        "    \n",
        "print(my_dict)"
      ]
    },
    {
      "cell_type": "code",
      "execution_count": null,
      "metadata": {},
      "outputs": [],
      "source": [
        "from collections import Counter\n",
        "sentence = input('Enter a sentence..: ')\n",
        "dict(Counter(sentence).most_common())"
      ]
    },
    {
      "cell_type": "code",
      "execution_count": null,
      "metadata": {},
      "outputs": [],
      "source": [
        "\n",
        "sentence = input(\"Please enter a sentence: \")     # Alternatif(chatGPT)\n",
        "letter_count = {}\n",
        "\n",
        "for letter in sentence:\n",
        "  if letter in letter_count:\n",
        "    letter_count[letter] += 1\n",
        "  else:\n",
        "    letter_count[letter] = 1\n",
        "    \n",
        "print(letter_count)"
      ]
    },
    {
      "attachments": {},
      "cell_type": "markdown",
      "metadata": {
        "id": "Fjhi9aCWPL3k"
      },
      "source": [
        "(8). To sum the amount of even / odd numbers in a list.\n",
        "\n",
        "*   Write a code that counts odd and even numbers list.\n",
        "*   print the result such as:\n",
        "# entered n : 7\n",
        "# random list with n elements (1-100) \n",
        "= [11,2,24,61,48,33,45]\n",
        "# output: \n",
        "       the number of even numbers : 3\n",
        "       the numbers of odd numbers : 4"
      ]
    },
    {
      "cell_type": "code",
      "execution_count": null,
      "metadata": {},
      "outputs": [],
      "source": [
        "import random\n",
        "\n",
        "a = random.sample(range(1,101),7)\n",
        "print(a)\n",
        "\n",
        "even = 0\n",
        "odd = 0\n",
        "\n",
        "for i in a:\n",
        "    if i%2 == 0:\n",
        "        even += 1\n",
        "    else:\n",
        "        odd += 1\n",
        "\n",
        "\n",
        "print(f'The number of even numbers : {even}')\n",
        "print(f'The number of even numbers : {odd}')"
      ]
    },
    {
      "cell_type": "code",
      "execution_count": null,
      "metadata": {},
      "outputs": [],
      "source": [
        "import random\n",
        "\n",
        "listeeee = random.sample(range(1,101),7)\n",
        "\n",
        "print(listeeee)\n",
        "['cift' if i%2 == 0 else 'tek' for i in listeeee]"
      ]
    },
    {
      "cell_type": "code",
      "execution_count": null,
      "metadata": {},
      "outputs": [],
      "source": [
        "listee = [11,2,24,61,48,33,45]\n",
        "x = ['cift' if i%2 == 0 else 'tek' for i in listee]\n",
        "print(x)"
      ]
    },
    {
      "cell_type": "markdown",
      "metadata": {
        "id": "D6iAtm6MQhiM"
      },
      "source": [
        "(9). **Fibonacci series:**\n",
        "Create a list consisting of Fibonacci numbers from 1 to 100 using control flow statements.\n",
        "\n",
        "The desired output is like :\n",
        "\n",
        "fibonacci →  [1, 1, 2, 3, 5, 8, 13, 21, 34, 55, 89]"
      ]
    },
    {
      "cell_type": "code",
      "execution_count": null,
      "metadata": {
        "id": "BC8C6PQIRjmO"
      },
      "outputs": [],
      "source": [
        "#%%timeit\n",
        "listeee = [1,1]\n",
        "\n",
        "while listeee[-1]<100:\n",
        "    a = listeee[-1]+listeee[-2]\n",
        "    if a >= 100:\n",
        "         break\n",
        "    listeee.append(a)\n",
        "   \n",
        "print(listeee)"
      ]
    },
    {
      "cell_type": "code",
      "execution_count": null,
      "metadata": {},
      "outputs": [],
      "source": [
        "n = int(input(\"Sayi giriniz.. : \"))\n",
        "listeee = [1,1]\n",
        "\n",
        "while listeee[-1]<n:\n",
        "    a = listeee[-1]+listeee[-2]\n",
        "    if a >= n:\n",
        "         break\n",
        "    listeee.append(a)\n",
        "   \n",
        "print(listeee)"
      ]
    },
    {
      "cell_type": "code",
      "execution_count": null,
      "metadata": {},
      "outputs": [],
      "source": [
        "#%%timeit\n",
        "num1 = 0        # Beyin yakan cozum :)\n",
        "num2 = 1\n",
        "for i in range(2,12):\n",
        "    num3 = num1 + num2\n",
        "    print(num3)\n",
        "    num1 = num2\n",
        "    num2 = num3"
      ]
    },
    {
      "cell_type": "code",
      "execution_count": null,
      "metadata": {},
      "outputs": [],
      "source": [
        "num1 = 0        # Beyin yakan cozum :)\n",
        "num2 = 1\n",
        "while num2 < 100:\n",
        "    print(num2)\n",
        "    num3 = num1 + num2\n",
        "    num1 = num2\n",
        "    num2 = num3"
      ]
    },
    {
      "cell_type": "markdown",
      "metadata": {
        "id": "PBeELzybRm-Z"
      },
      "source": [
        "**(10)** Find out if a given year is a \"leap\" year.\n",
        "\n",
        "In the Gregorian calendar, three criteria must be taken into account to identify leap years:\n",
        "\n",
        "*  The year must be evenly divisible by 4;\n",
        "*  If the year can also be evenly divided by 100, it is not a leap year; unless...\n",
        "*   The year is also evenly divisible by 400. Then it is a leap year.\n",
        "\n",
        "According to these rules, the years 2000 and 2400 are leap years, while 1800, 1900, 2100, 2200, 2300, and 2500 are not the leap years.\n",
        "\n",
        "\n",
        "Write a Python program that prints such as;\n",
        "\n",
        "```\n",
        "# \"2020 is a leap year\" if the given year by the user is a leap year, or \"2019 is not a leap year\" otherwise.\n",
        "```"
      ]
    },
    {
      "cell_type": "code",
      "execution_count": null,
      "metadata": {
        "id": "PMPeMbzYTlvM"
      },
      "outputs": [],
      "source": [
        "n = int(input('Enter a year..: '))\n",
        "\n",
        "if (n % 4 == 0 and n % 100 != 0) or n % 400 == 0:   ##(alternatif) if n % 4 == 0 and (n % 100 != 0 or n % 400 == 0):\n",
        "    print('{} is a leap year'.format(n))            \n",
        "else:\n",
        "    print('{} is not a leap year'.format(n))"
      ]
    },
    {
      "attachments": {},
      "cell_type": "markdown",
      "metadata": {
        "id": "onU6AFR-UkdS"
      },
      "source": [
        "**(11).** Given the following three list, how would you create a new list that matches the desired output\n",
        "printed below in Python?\n",
        "\n",
        "fruits = ['Apples', 'Oranges', 'Bananas'] \n",
        "quantities = [5, 3, 4] \n",
        "prices = [1.50, 2.25, 0.89]\n",
        "\n",
        "# Desired output \n",
        "[('Apples', 5, 1.50), \n",
        "('Oranges', 3, 2.25), \n",
        "('Bananas', 4, 0.89)]"
      ]
    },
    {
      "cell_type": "code",
      "execution_count": null,
      "metadata": {},
      "outputs": [],
      "source": [
        "fruits = ['Apples', 'Oranges', 'Bananas'] \n",
        "quantities = [5, 3, 4] \n",
        "prices = [1.50, 2.25, 0.89]\n",
        "\n",
        "x = zip(fruits, quantities, prices)\n",
        "print(tuple(x))         #list(x)  liste olarak Colab da da cikti veriyor."
      ]
    },
    {
      "cell_type": "code",
      "execution_count": null,
      "metadata": {},
      "outputs": [],
      "source": [
        "fruits = ['Apples', 'Oranges', 'Bananas'] \n",
        "quantities = [5, 3, 4] \n",
        "prices = [1.50, 2.25, 0.89]\n",
        "\n",
        "a = (fruits[0],quantities[0], prices[0])\n",
        "b = (fruits[1],quantities[1], prices[1])\n",
        "c = (fruits[2],quantities[2], prices[2])\n",
        "my_list = [a, b, c]\n",
        "my_list"
      ]
    },
    {
      "attachments": {},
      "cell_type": "markdown",
      "metadata": {
        "id": "FfLslKg5U7NC"
      },
      "source": [
        "**(12)**How to delete item in dictionary by a given/entered value?. (Sözlük yapısında değeri(value) dışarıdan girilen bir item'ı nasıl silebiliriz?)"
      ]
    },
    {
      "cell_type": "code",
      "execution_count": null,
      "metadata": {},
      "outputs": [],
      "source": [
        "d = {'foo': 100, 'bar': 200, 'baz': 300, 'kar':400, 'var':500}\n",
        "\n",
        "dlist = list(d.items())\n",
        "deletevalue = int(input(\"Silmek istediginiz deger:\"))\n",
        "for item in dlist:\n",
        "    if deletevalue in item:\n",
        "        dlist.pop(dlist.index(item))\n",
        "dlist = dict(dlist)\n",
        "print(dlist)"
      ]
    },
    {
      "cell_type": "code",
      "execution_count": null,
      "metadata": {},
      "outputs": [],
      "source": [
        "d = {'foo': 100, 'bar': 200, 'baz': 300, 'kar':400, 'var':500}\n",
        "a = d.list(d.)\n",
        "\n",
        "del d['baz']\n",
        "d"
      ]
    },
    {
      "cell_type": "code",
      "execution_count": null,
      "metadata": {
        "colab": {
          "base_uri": "https://localhost:8080/"
        },
        "id": "JRry6oXiW192",
        "outputId": "889209e0-969c-4661-cecf-d0307a3cc5f6"
      },
      "outputs": [],
      "source": [
        "d = {'foo': 100, 'bar': 200, 'baz': 300, 'kar':400, 'var':500}\n",
        "\n",
        "del d['baz']\n",
        "d"
      ]
    },
    {
      "cell_type": "markdown",
      "metadata": {
        "id": "dguUfTV5YnJu"
      },
      "source": [
        "**(13).** How to delete special characters (punctuations) in a string? (Bir string içerisindeki özel karakterler(punctations) nasıl silinir?)"
      ]
    },
    {
      "cell_type": "code",
      "execution_count": null,
      "metadata": {},
      "outputs": [],
      "source": [
        "my_str = \"Python-101 dersi! kolay/zor mu?\"\n",
        "my_str = my_str.replace(\"-\", \"\").replace(\"!\", \"\").replace(\"/\",\"\").replace(\"?\",\"\")\n",
        "\n",
        "print(my_str)"
      ]
    },
    {
      "cell_type": "code",
      "execution_count": null,
      "metadata": {},
      "outputs": [],
      "source": [
        "import re\n",
        "my_str = \"Python-101 dersi! kolay/zor mu?\"\n",
        "\n",
        "my_str = re.sub(r'[^\\w\\s]','',my_str)\n",
        "\n",
        "print(my_str)"
      ]
    },
    {
      "cell_type": "code",
      "execution_count": null,
      "metadata": {
        "colab": {
          "base_uri": "https://localhost:8080/"
        },
        "id": "wnV_KP6OXLj2",
        "outputId": "e70de7df-8cb1-4712-ecde-5b76682c72c5"
      },
      "outputs": [],
      "source": [
        "import string\n",
        "my_str = \"Python-101 dersi! kolay/zor mu?\"\n",
        "\n",
        "for char in my_str:\n",
        "    if char in string.punctuation:\n",
        "        my_str = my_str.replace(char,\"\")\n",
        "\n",
        "print(my_str)\n",
        "# print(string.punctuation)\n"
      ]
    },
    {
      "cell_type": "markdown",
      "metadata": {
        "id": "4WxiEaVscMAR"
      },
      "source": [
        "**(14).** Write a program that does multiplication without using the multiplication operator(not use *)."
      ]
    },
    {
      "cell_type": "code",
      "execution_count": null,
      "metadata": {
        "id": "3RIKYAmncM4A"
      },
      "outputs": [],
      "source": [
        "def multiply(a,b):\n",
        "    if a == 0 or b == 0:\n",
        "        return 0\n",
        "\n",
        "    result = 0\n",
        "    for i in range(b):\n",
        "        result += a\n",
        "    return result\n",
        "\n",
        "print(multiply(2, 3))  "
      ]
    },
    {
      "cell_type": "markdown",
      "metadata": {
        "id": "JZvZ0TfKdFD0"
      },
      "source": [
        "(15). How to code the following \"for loop\" with \"while loop\"?"
      ]
    },
    {
      "cell_type": "code",
      "execution_count": null,
      "metadata": {
        "colab": {
          "base_uri": "https://localhost:8080/"
        },
        "id": "hEKQ_p9vegOO",
        "outputId": "fa528258-ec4b-4a4e-d0fe-9579504b02b1"
      },
      "outputs": [],
      "source": [
        "# for loop;\n",
        "for i in range(ord('a'),ord('z')+1):\n",
        "    print(chr(i), end=\" \")\n",
        "# while eşdeğeri (while equivalent)?\n",
        "# TODO"
      ]
    },
    {
      "cell_type": "code",
      "execution_count": null,
      "metadata": {},
      "outputs": [],
      "source": [
        "i = ord('a')\n",
        "while i <= ord('z'):\n",
        "    print(chr(i), end=\" \")\n",
        "    i+=1"
      ]
    },
    {
      "cell_type": "code",
      "execution_count": null,
      "metadata": {},
      "outputs": [],
      "source": [
        "a = range(1,10)\n",
        "print(list(a))"
      ]
    },
    {
      "cell_type": "code",
      "execution_count": null,
      "metadata": {
        "colab": {
          "base_uri": "https://localhost:8080/"
        },
        "id": "dqHnDjLKf5fT",
        "outputId": "478c95a6-8d22-4105-c645-a57ec40e4cc3"
      },
      "outputs": [],
      "source": [
        "#(16). Numarası girilen kursiyerin adını yazan programı kodlayınız.\n",
        "list_no = list(range(5101,5118))\n",
        "list_name = [\"Emre\",\"Umut\",\"Rizgar\",\"Hanife\", \"Şule\",\"Hüseyin\",\"İrfan\", \"Nihal\",\"Hüseyin Özer\", \"Esra\",\"Yunus\",\"Fatih\",\"Halit\",\"Emirhan\",\"Mustafa\"]\n",
        "\n",
        "a = zip(list_no, list_name)\n",
        "print(list(a))"
      ]
    },
    {
      "cell_type": "code",
      "execution_count": null,
      "metadata": {},
      "outputs": [],
      "source": [
        "list_no = list(range(5101,5118))\n",
        "list_name = [\"Emre\",\"Umut\",\"Rizgar\",\"Hanife\", \"Şule\",\"Hüseyin\",\"İrfan\", \"Nihal\",\"Hüseyin Özer\", \"Esra\",\"Yunus\",\"Fatih\",\"Halit\",\"Emirhan\",\"Mustafa\"]\n",
        "\n",
        "no = int(input(\"Kursiyerin numarasini giriniz:\"))\n",
        "\n",
        "if no in list_no:\n",
        "    i = list_no.index(no)\n",
        "    print(\"Kursiyerin adi:\", list_name[i])\n",
        "else:\n",
        "    print(\"Girilen numara kayitli değil.\")"
      ]
    },
    {
      "cell_type": "code",
      "execution_count": null,
      "metadata": {},
      "outputs": [],
      "source": [
        "list_no = list(range(5101, 5118))\n",
        "print(list_no)\n",
        "list_name = [\"Emre\", \"Umut\", \"Rizgar\", \"Hanife\", \"Şule\", \"Hüseyin\", \"İrfan\",\n",
        "             \"Nihal\", \"Hüseyin Özer\", \"Esra\", \"Yunus\", \"Fatih\", \"Halit\", \"Emirhan\", \"Mustafa\"]\n",
        "\n",
        "no = int(input('Please enter student no..: '))\n",
        "\n",
        "if no in list_no:\n",
        "    i = list_no.index(no)\n",
        "    print(f'Student name : {list_name[i]}')\n",
        "else:\n",
        "    print('The number couldn\\'t be found')\n"
      ]
    },
    {
      "cell_type": "code",
      "execution_count": 7,
      "metadata": {},
      "outputs": [
        {
          "name": "stdout",
          "output_type": "stream",
          "text": [
            "c,b,a\n"
          ]
        }
      ],
      "source": [
        "print(\"{2},{1},{0}\".format(*\"abc\"))"
      ]
    }
  ],
  "metadata": {
    "colab": {
      "provenance": []
    },
    "kernelspec": {
      "display_name": "Python 3",
      "language": "python",
      "name": "python3"
    },
    "language_info": {
      "codemirror_mode": {
        "name": "ipython",
        "version": 3
      },
      "file_extension": ".py",
      "mimetype": "text/x-python",
      "name": "python",
      "nbconvert_exporter": "python",
      "pygments_lexer": "ipython3",
      "version": "3.11.2"
    },
    "orig_nbformat": 4,
    "vscode": {
      "interpreter": {
        "hash": "f7591dbcbfcf4e11bb2b9ed0ba1b7aa3ed822b0153881b8a97c64a70c64f21b0"
      }
    }
  },
  "nbformat": 4,
  "nbformat_minor": 0
}
